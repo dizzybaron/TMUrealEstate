{
 "cells": [
  {
   "cell_type": "markdown",
   "metadata": {},
   "source": [
    "# Function"
   ]
  },
  {
   "cell_type": "code",
   "execution_count": 1,
   "metadata": {
    "collapsed": false
   },
   "outputs": [],
   "source": [
    "# 先載入資料庫\n",
    "import pandas as pd\n",
    "import matplotlib as mpl\n",
    "import matplotlib.pyplot as plt\n",
    "from matplotlib.pyplot import plot, draw, show\n",
    "from IPython.display import display\n",
    "\n",
    "%matplotlib inline\n",
    "mpl.style.use(\"ggplot\")\n",
    "\n",
    "df = pd.read_pickle('cleanDf')\n",
    "\n",
    "# 歡迎頁\n",
    "def WelcomePage():\n",
    "    print(\"嗨！我是鈞哥，要幫你找房子嗎？\")\n",
    "    print(\"(1:繼續/0:停止)\")\n",
    "\n",
    "# 選擇資料庫\n",
    "def flow():\n",
    "    print(\"1:整層住家/2:獨立套房/3:分租套房\")\n",
    "    b = int(input(\"選擇房型:\"))\n",
    "    \n",
    "    if b == 3:\n",
    "        # 視覺化\n",
    "        #畫第一個圖\n",
    "        print(\"租金與坪數散布圖如下:\")\n",
    "        df.plot(x = 'size', y = 'price', style = 'o', xticks = [0,2,4,6,8,10,12] )\n",
    "        draw()\n",
    "        show()\n",
    "        #畫第二個圖\n",
    "        print(\"租金與樓層散布圖如下:\")\n",
    "        df.plot(x = 'floor', y = 'price', style = 'o', xticks = [0,3,6,9,12,15])\n",
    "        draw()\n",
    "        show()\n",
    "        \n",
    "        # 輸入預算、列出符合條件的房子\n",
    "        e = int(input(\"請輸入你的預算？\"))\n",
    "        print(\"以下是依預算排序的搜尋結果:\")\n",
    "        display(df[df.price < e ].sort_values(by = 'price'))\n",
    "        \n",
    "        # 根據index顯示想要的那筆資料\n",
    "        print('點擊以下連結連絡房東')\n",
    "        print(df[df.price < e ]['name'])\n",
    "        \n",
    "        #結束頁\n",
    "        print(\"恭喜你找到房子！覺得欣慰！\")\n",
    "        \n",
    "    else:\n",
    "        print(\"目前沒有資料。\")\n",
    "        \n",
    "#----以下筆記區----    \n",
    "# 視覺化\n",
    "#def VisualDisplay():\n",
    "#    print(\"租金與坪數散布圖如下:\")\n",
    "#    c = df.plot(x = 'size', y = 'price', style = 'o', xticks = [0,2,4,6,8,10,12] )\n",
    "    \n",
    "#    print(\"租金與樓層散布圖如下:\")\n",
    "#    d = df.plot(x = 'floor', y = 'price', style = 'o', xticks = [0,3,6,9,12,15])\n",
    "\n",
    "# 輸入預算、顯示候選名單\n",
    "#def DataDisplay():\n",
    "#    e = int(input(\"請輸入你的預算？\"))\n",
    "#    df[df.price < e ]\n",
    "\n",
    "# 輸入選擇、列出所選房屋資料\n",
    "#def ConfirmDisplay():\n",
    "#    f = int(input(\"請輸入你的選擇？\"))\n",
    "#    print()\n",
    "\n",
    "# 結束頁\n",
    "#def EndPage():\n",
    "#    print(\"恭喜你找到房子！覺得欣慰！\")"
   ]
  },
  {
   "cell_type": "markdown",
   "metadata": {},
   "source": [
    "# Flow"
   ]
  },
  {
   "cell_type": "code",
   "execution_count": 2,
   "metadata": {
    "collapsed": false
   },
   "outputs": [
    {
     "name": "stdout",
     "output_type": "stream",
     "text": [
      "嗨！我是鈞哥，要幫你找房子嗎？\n",
      "(1:繼續/0:停止)\n",
      "請輸入您的選擇:1\n",
      "1:整層住家/2:獨立套房/3:分租套房\n",
      "選擇房型:3\n",
      "租金與坪數散布圖如下:\n"
     ]
    },
    {
     "data": {
      "image/png": "[encoded data removed]",
      "text/plain": [
       "<matplotlib.figure.Figure at 0x10b6649b0>"
      ]
     },
     "metadata": {},
     "output_type": "display_data"
    },
    {
     "name": "stdout",
     "output_type": "stream",
     "text": [
      "租金與樓層散布圖如下:\n"
     ]
    },
    {
     "data": {
      "image/png": "[encoded data removed]",
      "text/plain": [
       "<matplotlib.figure.Figure at 0x116fdca90>"
      ]
     },
     "metadata": {},
     "output_type": "display_data"
    },
    {
     "name": "stdout",
     "output_type": "stream",
     "text": [
      "請輸入你的預算？10000\n",
      "以下是依預算排序的搜尋結果:\n"
     ]
    },
    {
     "data": {
      "text/html": [
       "<div>\n",
       "<table border=\"1\" class=\"dataframe\">\n",
       "  <thead>\n",
       "    <tr style=\"text-align: right;\">\n",
       "      <th></th>\n",
       "      <th>url</th>\n",
       "      <th>price</th>\n",
       "      <th>address</th>\n",
       "      <th>size</th>\n",
       "      <th>floor</th>\n",
       "      <th>type</th>\n",
       "      <th>condition</th>\n",
       "      <th>name</th>\n",
       "      <th>on_roof</th>\n",
       "    </tr>\n",
       "  </thead>\n",
       "  <tbody>\n",
       "    <tr>\n",
       "      <th>https://rent.591.com.tw/rent-detail-5270120.html</th>\n",
       "      <td>https://rent.591.com.tw/rent-detail-5270120.html</td>\n",
       "      <td>8000.0</td>\n",
       "      <td>台北市信義區福德街</td>\n",
       "      <td>5.0</td>\n",
       "      <td>4.0</td>\n",
       "      <td>公寓</td>\n",
       "      <td>分租套房</td>\n",
       "      <td>福德陽光小套房</td>\n",
       "      <td>False</td>\n",
       "    </tr>\n",
       "    <tr>\n",
       "      <th>https://rent.591.com.tw/rent-detail-5242465.html</th>\n",
       "      <td>https://rent.591.com.tw/rent-detail-5242465.html</td>\n",
       "      <td>8000.0</td>\n",
       "      <td>台北市信義區吳興街600巷</td>\n",
       "      <td>6.0</td>\n",
       "      <td>5.0</td>\n",
       "      <td>公寓</td>\n",
       "      <td>分租套房</td>\n",
       "      <td>優雅.寧靜套房設備齊全(限女性)</td>\n",
       "      <td>False</td>\n",
       "    </tr>\n",
       "    <tr>\n",
       "      <th>https://rent.591.com.tw/rent-detail-5287691.html</th>\n",
       "      <td>https://rent.591.com.tw/rent-detail-5287691.html</td>\n",
       "      <td>9000.0</td>\n",
       "      <td>台北市信義區林口街</td>\n",
       "      <td>5.0</td>\n",
       "      <td>4.0</td>\n",
       "      <td>公寓</td>\n",
       "      <td>分租套房</td>\n",
       "      <td>生活機能完善,便捷舒適的家</td>\n",
       "      <td>False</td>\n",
       "    </tr>\n",
       "    <tr>\n",
       "      <th>https://rent.591.com.tw/rent-detail-5161010.html</th>\n",
       "      <td>https://rent.591.com.tw/rent-detail-5161010.html</td>\n",
       "      <td>9000.0</td>\n",
       "      <td>台北市信義區林口街36巷</td>\n",
       "      <td>5.0</td>\n",
       "      <td>4.0</td>\n",
       "      <td>公寓</td>\n",
       "      <td>分租套房</td>\n",
       "      <td>全新裝潢.鄰近捷運站公車站.生活機能佳</td>\n",
       "      <td>False</td>\n",
       "    </tr>\n",
       "    <tr>\n",
       "      <th>https://rent.591.com.tw/rent-detail-5267205.html</th>\n",
       "      <td>https://rent.591.com.tw/rent-detail-5267205.html</td>\n",
       "      <td>9100.0</td>\n",
       "      <td>台北市信義區永吉路180巷30弄10號</td>\n",
       "      <td>5.0</td>\n",
       "      <td>5.0</td>\n",
       "      <td>公寓</td>\n",
       "      <td>分租套房</td>\n",
       "      <td>鬧中取靜小套房</td>\n",
       "      <td>False</td>\n",
       "    </tr>\n",
       "    <tr>\n",
       "      <th>https://rent.591.com.tw/rent-detail-5230939.html</th>\n",
       "      <td>https://rent.591.com.tw/rent-detail-5230939.html</td>\n",
       "      <td>9200.0</td>\n",
       "      <td>台北市信義區永吉路321巷</td>\n",
       "      <td>11.0</td>\n",
       "      <td>4.0</td>\n",
       "      <td>公寓</td>\n",
       "      <td>分租套房</td>\n",
       "      <td>坪數大生活機能佳靠市政府捷運站</td>\n",
       "      <td>False</td>\n",
       "    </tr>\n",
       "  </tbody>\n",
       "</table>\n",
       "</div>"
      ],
      "text/plain": [
       "                                                                                               url  \\\n",
       "https://rent.591.com.tw/rent-detail-5270120.html  https://rent.591.com.tw/rent-detail-5270120.html   \n",
       "https://rent.591.com.tw/rent-detail-5242465.html  https://rent.591.com.tw/rent-detail-5242465.html   \n",
       "https://rent.591.com.tw/rent-detail-5287691.html  https://rent.591.com.tw/rent-detail-5287691.html   \n",
       "https://rent.591.com.tw/rent-detail-5161010.html  https://rent.591.com.tw/rent-detail-5161010.html   \n",
       "https://rent.591.com.tw/rent-detail-5267205.html  https://rent.591.com.tw/rent-detail-5267205.html   \n",
       "https://rent.591.com.tw/rent-detail-5230939.html  https://rent.591.com.tw/rent-detail-5230939.html   \n",
       "\n",
       "                                                   price              address  \\\n",
       "https://rent.591.com.tw/rent-detail-5270120.html  8000.0            台北市信義區福德街   \n",
       "https://rent.591.com.tw/rent-detail-5242465.html  8000.0        台北市信義區吳興街600巷   \n",
       "https://rent.591.com.tw/rent-detail-5287691.html  9000.0            台北市信義區林口街   \n",
       "https://rent.591.com.tw/rent-detail-5161010.html  9000.0         台北市信義區林口街36巷   \n",
       "https://rent.591.com.tw/rent-detail-5267205.html  9100.0  台北市信義區永吉路180巷30弄10號   \n",
       "https://rent.591.com.tw/rent-detail-5230939.html  9200.0        台北市信義區永吉路321巷   \n",
       "\n",
       "                                                  size  floor  type condition  \\\n",
       "https://rent.591.com.tw/rent-detail-5270120.html   5.0    4.0    公寓      分租套房   \n",
       "https://rent.591.com.tw/rent-detail-5242465.html   6.0    5.0    公寓      分租套房   \n",
       "https://rent.591.com.tw/rent-detail-5287691.html   5.0    4.0    公寓      分租套房   \n",
       "https://rent.591.com.tw/rent-detail-5161010.html   5.0    4.0    公寓      分租套房   \n",
       "https://rent.591.com.tw/rent-detail-5267205.html   5.0    5.0    公寓      分租套房   \n",
       "https://rent.591.com.tw/rent-detail-5230939.html  11.0    4.0    公寓      分租套房   \n",
       "\n",
       "                                                                 name on_roof  \n",
       "https://rent.591.com.tw/rent-detail-5270120.html              福德陽光小套房   False  \n",
       "https://rent.591.com.tw/rent-detail-5242465.html     優雅.寧靜套房設備齊全(限女性)   False  \n",
       "https://rent.591.com.tw/rent-detail-5287691.html        生活機能完善,便捷舒適的家   False  \n",
       "https://rent.591.com.tw/rent-detail-5161010.html  全新裝潢.鄰近捷運站公車站.生活機能佳   False  \n",
       "https://rent.591.com.tw/rent-detail-5267205.html              鬧中取靜小套房   False  \n",
       "https://rent.591.com.tw/rent-detail-5230939.html      坪數大生活機能佳靠市政府捷運站   False  "
      ]
     },
     "metadata": {},
     "output_type": "display_data"
    },
    {
     "name": "stdout",
     "output_type": "stream",
     "text": [
      "點擊以下連結連絡房東\n",
      "https://rent.591.com.tw/rent-detail-5230939.html        坪數大生活機能佳靠市政府捷運站\n",
      "https://rent.591.com.tw/rent-detail-5287691.html          生活機能完善,便捷舒適的家\n",
      "https://rent.591.com.tw/rent-detail-5270120.html                福德陽光小套房\n",
      "https://rent.591.com.tw/rent-detail-5267205.html                鬧中取靜小套房\n",
      "https://rent.591.com.tw/rent-detail-5242465.html       優雅.寧靜套房設備齊全(限女性)\n",
      "https://rent.591.com.tw/rent-detail-5161010.html    全新裝潢.鄰近捷運站公車站.生活機能佳\n",
      "Name: name, dtype: object\n",
      "恭喜你找到房子！覺得欣慰！\n",
      "請按Enter鍵回主選單\n",
      "嗨！我是鈞哥，要幫你找房子嗎？\n",
      "(1:繼續/0:停止)\n",
      "請輸入您的選擇:0\n"
     ]
    }
   ],
   "source": [
    "while True:\n",
    "    WelcomePage()\n",
    "    a = int(input(\"請輸入您的選擇:\"))\n",
    "    if a == 0 : break\n",
    "    if a == 1:\n",
    "        flow()\n",
    "    else: break\n",
    "    x = input(\"請按Enter鍵回主選單\")"
   ]
  },
  {
   "cell_type": "code",
   "execution_count": null,
   "metadata": {
    "collapsed": true
   },
   "outputs": [],
   "source": []
  }
 ],
 "metadata": {
  "kernelspec": {
   "display_name": "Python 3",
   "language": "python",
   "name": "python3"
  },
  "language_info": {
   "codemirror_mode": {
    "name": "ipython",
    "version": 3
   },
   "file_extension": ".py",
   "mimetype": "text/x-python",
   "name": "python",
   "nbconvert_exporter": "python",
   "pygments_lexer": "ipython3",
   "version": "3.6.0"
  }
 },
 "nbformat": 4,
 "nbformat_minor": 2
}
