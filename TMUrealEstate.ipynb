{
 "cells": [
  {
   "cell_type": "code",
   "execution_count": 5,
   "metadata": {
    "collapsed": false
   },
   "outputs": [],
   "source": [
    "from bs4 import BeautifulSoup\n",
    "import requests, re, sys\n",
    "import pandas as pd\n",
    "import numpy as np\n",
    "\n",
    "\n",
    "# URL Crawler\n",
    "url_share = 'https://rent.591.com.tw/home/rent/index/r1s7k3.html?kind=1&region=1&section=7'\n",
    "html_share = requests.get(url_share).text\n",
    "sp = BeautifulSoup(html_share, 'html.parser')\n",
    "\n",
    "url_studioInd = 'https://rent.591.com.tw/home/rent/index/r1s7k3.html?kind=2&region=1&section=7'\n",
    "html_studioInd = requests.get(url_studioInd).text\n",
    "sp = BeautifulSoup(html_studioInd, 'html.parser')\n",
    "\n",
    "url_studioSep = 'https://rent.591.com.tw/home/rent/index/r1s7k3.html?kind=3&region=1&section=7'\n",
    "html_studioSep = requests.get(url_studioSep).text\n",
    "sp = BeautifulSoup(html_studioSep, 'html.parser')\n",
    "\n",
    "\n",
    "links_share = []\n",
    "for a in sp.find_all('a', href=True):\n",
    "    if '/rent-detail' in a['href']:\n",
    "        links_share.append(a['href'])\n",
    "#print(links_share)\n",
    "\n",
    "links_studioInd = []\n",
    "for a in sp.find_all('a', href=True):\n",
    "    if '/rent-detail' in a['href']:\n",
    "        links_studioInd.append(a['href'])\n",
    "#print(links_studioInd)\n",
    "\n",
    "links_studioSep = []\n",
    "for a in sp.find_all('a', href=True):\n",
    "    if '/rent-detail' in a['href']:\n",
    "        links_studioSep.append(a['href'])\n",
    "#print(links_studioSep)\n",
    "\n",
    "\n",
    "# ---------------------------------------\n",
    "\n",
    "# Filter\n",
    "\n",
    "\n",
    "# Output\n",
    "df_share = pd.DataFrame(links_share, columns=['URL'])\n",
    "df_share.to_csv('df_share.csv')\n",
    "\n",
    "df_studioInd = pd.DataFrame(links_studioInd, columns=['URL'])\n",
    "df_studioInd.to_csv('df_studioInd.csv')\n",
    "\n",
    "df_studioSep = pd.DataFrame(links_studioSep, columns=['URL'])\n",
    "df_studioSep.to_csv('df_studioSep.csv')\n",
    "\n",
    "\n",
    "\n",
    "# ---------------------------------------\n",
    "# Memo\n",
    "#url_share     = 'https://rent.591.com.tw/home/rent/index/r1s7k3.html?kind=1&region=1&section=7'\n",
    "#url_studioInd = 'https://rent.591.com.tw/home/rent/index/r1s7k3.html?kind=2&region=1&section=7'\n",
    "#url_studioSep = 'https://rent.591.com.tw/home/rent/index/r1s7k3.html?kind=3&region=1&section=7'\n"
   ]
  },
  {
   "cell_type": "code",
   "execution_count": null,
   "metadata": {
    "collapsed": true
   },
   "outputs": [],
   "source": []
  }
 ],
 "metadata": {
  "kernelspec": {
   "display_name": "Python 3",
   "language": "python",
   "name": "python3"
  },
  "language_info": {
   "codemirror_mode": {
    "name": "ipython",
    "version": 3
   },
   "file_extension": ".py",
   "mimetype": "text/x-python",
   "name": "python",
   "nbconvert_exporter": "python",
   "pygments_lexer": "ipython3",
   "version": "3.6.0"
  }
 },
 "nbformat": 4,
 "nbformat_minor": 2
}
