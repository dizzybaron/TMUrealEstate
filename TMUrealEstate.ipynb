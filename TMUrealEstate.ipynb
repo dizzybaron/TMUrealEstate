{
 "cells": [
  {
   "cell_type": "code",
   "execution_count": 25,
   "metadata": {
    "collapsed": false
   },
   "outputs": [],
   "source": [
    "from bs4 import BeautifulSoup\n",
    "import requests, re\n",
    "\n",
    "\n",
    "# URL\n",
    "url_share = 'https://rent.591.com.tw/home/rent/index/r1s7k3.html?kind=1&region=1&section=7'\n",
    "html_share = requests.get(url_share).text\n",
    "sp = BeautifulSoup(html_share, 'html.parser')\n",
    "#links_share = sp.find_all('a')\n",
    "links_share = sp.select('li.infoContent')\n",
    "#print(links_share)\n",
    "\n",
    "# Filter\n",
    "for link in links_share:\n",
    "    href = link.get('href')\n",
    "    if href != None:\n",
    "        print(href)\n",
    "\n",
    "# Output\n",
    "#print (datas_share)\n",
    "\n",
    "\n",
    "\n",
    "#url_share     = 'https://rent.591.com.tw/home/rent/index/r1s7k3.html?kind=1&region=1&section=7'\n",
    "#url_studioInd = 'https://rent.591.com.tw/home/rent/index/r1s7k3.html?kind=2&region=1&section=7'\n",
    "#url_studioSep = 'https://rent.591.com.tw/home/rent/index/r1s7k3.html?kind=3&region=1&section=7'\n"
   ]
  },
  {
   "cell_type": "code",
   "execution_count": null,
   "metadata": {
    "collapsed": true
   },
   "outputs": [],
   "source": []
  }
 ],
 "metadata": {
  "kernelspec": {
   "display_name": "Python 3",
   "language": "python",
   "name": "python3"
  },
  "language_info": {
   "codemirror_mode": {
    "name": "ipython",
    "version": 3
   },
   "file_extension": ".py",
   "mimetype": "text/x-python",
   "name": "python",
   "nbconvert_exporter": "python",
   "pygments_lexer": "ipython3",
   "version": "3.6.0"
  }
 },
 "nbformat": 4,
 "nbformat_minor": 2
}
