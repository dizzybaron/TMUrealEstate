{
 "cells": [
  {
   "cell_type": "code",
   "execution_count": null,
   "metadata": {
    "collapsed": true
   },
   "outputs": [],
   "source": [
    "# 歡迎頁\n",
    "\n",
    "# 選擇地區\n",
    "\n",
    "# 先地區guideline，視覺化呈現\n",
    "\n",
    "# 輸入預算\n",
    "\n",
    "# 列出候選名單\n",
    "\n",
    "# 輸入選擇\n",
    "\n",
    "# 顯示房屋物件\n",
    "\n",
    "# 連絡房東"
   ]
  }
 ],
 "metadata": {
  "kernelspec": {
   "display_name": "Python 3",
   "language": "python",
   "name": "python3"
  },
  "language_info": {
   "codemirror_mode": {
    "name": "ipython",
    "version": 3
   },
   "file_extension": ".py",
   "mimetype": "text/x-python",
   "name": "python",
   "nbconvert_exporter": "python",
   "pygments_lexer": "ipython3",
   "version": "3.6.0"
  }
 },
 "nbformat": 4,
 "nbformat_minor": 2
}
