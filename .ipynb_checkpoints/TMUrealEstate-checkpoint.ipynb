{
 "cells": [
  {
   "cell_type": "code",
   "execution_count": 17,
   "metadata": {
    "collapsed": false
   },
   "outputs": [
    {
     "name": "stdout",
     "output_type": "stream",
     "text": [
      "Populating the interactive namespace from numpy and matplotlib\n"
     ]
    },
    {
     "name": "stderr",
     "output_type": "stream",
     "text": [
      "//anaconda/lib/python3.6/site-packages/bs4/__init__.py:282: UserWarning: \"https://rent.591.com.tw/home/rent/index/r1s7k3.html?kind=1&region=1&section=7\" looks like a URL. Beautiful Soup is not an HTTP client. You should probably use an HTTP client like requests to get the document behind the URL, and feed that document to Beautiful Soup.\n",
      "  ' that document to Beautiful Soup.' % decoded_markup\n"
     ]
    },
    {
     "ename": "TypeError",
     "evalue": "'NoneType' object is not callable",
     "output_type": "error",
     "traceback": [
      "\u001b[0;31m---------------------------------------------------------------------------\u001b[0m",
      "\u001b[0;31mTypeError\u001b[0m                                 Traceback (most recent call last)",
      "\u001b[0;32m<ipython-input-17-7fdf5b96ff2c>\u001b[0m in \u001b[0;36m<module>\u001b[0;34m()\u001b[0m\n\u001b[1;32m     19\u001b[0m \u001b[0msp\u001b[0m \u001b[0;34m=\u001b[0m \u001b[0mBeautifulSoup\u001b[0m\u001b[0;34m(\u001b[0m\u001b[0murl_share\u001b[0m\u001b[0;34m,\u001b[0m \u001b[0;34m'html.parser'\u001b[0m\u001b[0;34m)\u001b[0m\u001b[0;34m\u001b[0m\u001b[0m\n\u001b[1;32m     20\u001b[0m \u001b[0;34m\u001b[0m\u001b[0m\n\u001b[0;32m---> 21\u001b[0;31m \u001b[0mwebsite\u001b[0m \u001b[0;34m=\u001b[0m \u001b[0msp\u001b[0m\u001b[0;34m.\u001b[0m\u001b[0mfindall\u001b[0m\u001b[0;34m(\u001b[0m\u001b[0;34m'infoContent'\u001b[0m\u001b[0;34m,\u001b[0m \u001b[0;34m'h3'\u001b[0m\u001b[0;34m)\u001b[0m\u001b[0;34m\u001b[0m\u001b[0m\n\u001b[0m\u001b[1;32m     22\u001b[0m \u001b[0mprint\u001b[0m\u001b[0;34m(\u001b[0m\u001b[0mwebsite\u001b[0m\u001b[0;34m)\u001b[0m\u001b[0;34m\u001b[0m\u001b[0m\n",
      "\u001b[0;31mTypeError\u001b[0m: 'NoneType' object is not callable"
     ]
    }
   ],
   "source": [
    "from bs4 import BeautifulSoup\n",
    "from urllib.parse import urlparse\n",
    "\n",
    "%pylab inline\n",
    "import pandas as pd\n",
    "\n",
    "import requests, re\n",
    "\n",
    "# Praser\n",
    "url_share     = 'https://rent.591.com.tw/home/rent/index/r1s7k3.html?kind=1&region=1&section=7'\n",
    "url_studioInd = 'https://rent.591.com.tw/home/rent/index/r1s7k3.html?kind=2&region=1&section=7'\n",
    "url_studioSep = 'https://rent.591.com.tw/home/rent/index/r1s7k3.html?kind=3&region=1&section=7'\n",
    "\n",
    "uget_share = requests.get(url_share).text\n",
    "uget_studioInd = requests.get(url_studioInd).text\n",
    "uget_studioSep = requests.get(url_studioSep).text\n",
    "\n",
    "# Filter\n",
    "sp = BeautifulSoup(url_share, 'html.parser')\n",
    "\n",
    "website = sp.findall('infoContent', 'h3')\n",
    "print(website)"
   ]
  },
  {
   "cell_type": "code",
   "execution_count": null,
   "metadata": {
    "collapsed": true
   },
   "outputs": [],
   "source": [
    "from bs4 import BeautifulSoup\n",
    "import requests, re\n",
    "\n",
    "url = 'https://rent.591.com.tw/home/rent/index/r1s7k3.html?kind=1&region=1&section=7'\n",
    "html = requests.get(url).text\n",
    "sp = BeautifulSoup(html, 'html.parser')\n",
    "\n",
    "\n",
    "regex = \"([rent-detail]+-)\"\n",
    "datas = re.findall(regex,html)\n",
    "\n",
    "print (datas)"
   ]
  }
 ],
 "metadata": {
  "kernelspec": {
   "display_name": "Python 3",
   "language": "python",
   "name": "python3"
  },
  "language_info": {
   "codemirror_mode": {
    "name": "ipython",
    "version": 3
   },
   "file_extension": ".py",
   "mimetype": "text/x-python",
   "name": "python",
   "nbconvert_exporter": "python",
   "pygments_lexer": "ipython3",
   "version": "3.6.0"
  }
 },
 "nbformat": 4,
 "nbformat_minor": 2
}
