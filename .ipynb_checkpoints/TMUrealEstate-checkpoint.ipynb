{
 "cells": [
  {
   "cell_type": "markdown",
   "metadata": {},
   "source": [
    "# This part makes a function that gets us all links from the request page!\n",
    "\n",
    "[example](https://rent.591.com.tw/home/rent/index/r1s7k3.html?kind=1&region=1&section=7)\n",
    "\n",
    "[useragent](https://stackoverflow.com/questions/24226781/changing-user-agent-in-python-3-for-urrlib-request-urlopen)"
   ]
  },
  {
   "cell_type": "code",
   "execution_count": 11,
   "metadata": {
    "collapsed": false
   },
   "outputs": [],
   "source": [
    "# url_share\n",
    "from bs4 import BeautifulSoup\n",
    "import pandas as pd\n",
    "import numpy as np\n",
    "import urllib\n",
    "\n",
    "def QueryToLink(url):\n",
    "    # input: url of the search result page\n",
    "    # output: list containing all result url\n",
    "\n",
    "    # change useragent\n",
    "    req = urllib.request.Request(\n",
    "        url, \n",
    "        data=None, \n",
    "        headers={\n",
    "            'User-Agent': 'Mozilla/5.0 (Macintosh; Intel Mac OS X 10_9_3) AppleWebKit/537.36 (KHTML, like Gecko) Chrome/35.0.1916.47 Safari/537.36'\n",
    "        }\n",
    "    )\n",
    "\n",
    "    # now return the html\n",
    "    html_share = urllib.request.urlopen(req)\n",
    "    print(html_share)\n",
    "    # find all links of the results, these are the rentals we are looking for\n",
    "    sp = BeautifulSoup(html_share, 'html.parser')\n",
    "\n",
    "\n",
    "\n",
    "    links =[]\n",
    "    for a in sp.find_all('a', href=True):\n",
    "        if '/rent-detail' in a['href']:\n",
    "            links_modified = \"https:\" + a['href']\n",
    "            links_clean1 = links_modified.replace(\" \", \"\")\n",
    "            links_clean2 = links_clean1.replace(\"\\n\", \"\")\n",
    "            links.append(links_clean2)\n",
    "\n",
    "    # just to showoff our success!\n",
    "    print(links, '/n/n')\n",
    "    \n",
    "    \n",
    "\n",
    "\n",
    "    # ---------------------------------------\n",
    "\n",
    "\n",
    "    # Output\n",
    "    #df_share = pd.DataFrame(links_share, columns=['URL'])\n",
    "    return(links)\n",
    "\n"
   ]
  },
  {
   "cell_type": "markdown",
   "metadata": {},
   "source": [
    "# and now we scrape all the necessary contents (incomplete still)"
   ]
  },
  {
   "cell_type": "code",
   "execution_count": 21,
   "metadata": {
    "collapsed": false
   },
   "outputs": [],
   "source": [
    "def ScrapeOneContent(url):\n",
    "    # Input: list containing result urls\n",
    "    # output: dataframe containing features\n",
    "    \n",
    "    # change useragent\n",
    "    \n",
    "    req = urllib.request.Request(\n",
    "        url, \n",
    "        data=None, \n",
    "        headers={\n",
    "            'User-Agent': 'Mozilla/5.0 (Macintosh; Intel Mac OS X 10_9_3) AppleWebKit/537.36 (KHTML, like Gecko) Chrome/35.0.1916.47 Safari/537.36'\n",
    "        }\n",
    "    )\n",
    "\n",
    "    # now return the html\n",
    "    html_share = urllib.request.urlopen(req)\n",
    "    \n",
    "    #debug\n",
    "    print(html_share)\n",
    "\n",
    "    # find all links of the results, these are the rentals we are looking for\n",
    "    sp = BeautifulSoup(html_share, 'html.parser')\n",
    "    \n",
    "    print(sp.find_all(class_ = 'price clearfix'))\n",
    "    #print(sp.find_all('i'))\n",
    "    \n",
    "    "
   ]
  },
  {
   "cell_type": "code",
   "execution_count": 20,
   "metadata": {
    "collapsed": false
   },
   "outputs": [
    {
     "name": "stdout",
     "output_type": "stream",
     "text": [
      "<http.client.HTTPResponse object at 0x7f0976c14f98>\n",
      "[<div class=\"price clearfix\">\n",
      "<i>15,900 <b>元/月</b> </i>\n",
      "</div>]\n"
     ]
    }
   ],
   "source": [
    "# test \n",
    "ScrapeOneContent('https://rent.591.com.tw/rent-detail-5253790.html')"
   ]
  },
  {
   "cell_type": "code",
   "execution_count": null,
   "metadata": {
    "collapsed": false
   },
   "outputs": [
    {
     "name": "stdout",
     "output_type": "stream",
     "text": [
      "<http.client.HTTPResponse object at 0x7f0976c21358>\n"
     ]
    }
   ],
   "source": [
    "# test\n",
    "#f_share.to_csv('df_share.csv')\n",
    "# URL Crawler\n",
    "url_share = 'https://rent.591.com.tw/home/rent/index/r1s7k3.html?kind=1&region=1&section=7'\n",
    "QueryToLink(url_share)\n",
    "# ---------------------------------------\n",
    "# Memo\n",
    "#url_share     = 'https://rent.591.com.tw/home/rent/index/r1s7k3.html?kind=1&region=1&section=7'\n",
    "#url_studioInd = 'https://rent.591.com.tw/home/rent/index/r1s7k3.html?kind=2&region=1&section=7'\n",
    "#url_studioSep = 'https://rent.591.com.tw/home/rent/index/r1s7k3.html?kind=3&region=1&section=7'\n"
   ]
  },
  {
   "cell_type": "code",
   "execution_count": null,
   "metadata": {
    "collapsed": true
   },
   "outputs": [],
   "source": []
  }
 ],
 "metadata": {
  "kernelspec": {
   "display_name": "Python 3",
   "language": "python",
   "name": "python3"
  },
  "language_info": {
   "codemirror_mode": {
    "name": "ipython",
    "version": 3
   },
   "file_extension": ".py",
   "mimetype": "text/x-python",
   "name": "python",
   "nbconvert_exporter": "python",
   "pygments_lexer": "ipython3",
   "version": "3.6.0"
  }
 },
 "nbformat": 4,
 "nbformat_minor": 2
}
