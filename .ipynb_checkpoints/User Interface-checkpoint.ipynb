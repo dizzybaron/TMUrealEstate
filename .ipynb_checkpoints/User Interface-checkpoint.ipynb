{
 "cells": [
  {
   "cell_type": "code",
   "execution_count": 22,
   "metadata": {
    "collapsed": false
   },
   "outputs": [
    {
     "name": "stdout",
     "output_type": "stream",
     "text": [
      "歡迎來到py郎房仲網（按enter鍵繼續，-1結束）-1\n"
     ]
    }
   ],
   "source": [
    "# 選擇地區\n",
    "def area():\n",
    "    print()\n",
    "\n",
    "# 先地區guideline，視覺化呈現\n",
    "\n",
    "# 輸入預算\n",
    "def cost():\n",
    "    cost = int(input(\"請輸入你的預算？\"))\n",
    "    \n",
    "# 列出候選名單\n",
    "def pocket_list():\n",
    "    print()\n",
    "\n",
    "# 輸入選擇\n",
    "def option():\n",
    "    option = int(input(\"請輸入欲查詢物件？\"))\n",
    "\n",
    "# 顯示房屋物件\n",
    "def show():\n",
    "    print()\n",
    "\n",
    "# 連絡房東\n",
    "def contact():\n",
    "    print()\n",
    "    \n",
    "# 歡迎頁（使用者介面）\n",
    "while True:\n",
    "    welcome_page = int(input(\"歡迎來到py郎房仲網（按enter鍵繼續，-1結束）\"))\n",
    "    if welcome_page == -1: break"
   ]
  },
  {
   "cell_type": "code",
   "execution_count": null,
   "metadata": {
    "collapsed": true
   },
   "outputs": [],
   "source": []
  }
 ],
 "metadata": {
  "kernelspec": {
   "display_name": "Python 3",
   "language": "python",
   "name": "python3"
  },
  "language_info": {
   "codemirror_mode": {
    "name": "ipython",
    "version": 3
   },
   "file_extension": ".py",
   "mimetype": "text/x-python",
   "name": "python",
   "nbconvert_exporter": "python",
   "pygments_lexer": "ipython3",
   "version": "3.6.0"
  }
 },
 "nbformat": 4,
 "nbformat_minor": 2
}
